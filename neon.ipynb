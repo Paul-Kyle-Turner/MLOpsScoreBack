{
 "cells": [
  {
   "cell_type": "code",
   "execution_count": 1,
   "id": "4972e7fb",
   "metadata": {},
   "outputs": [],
   "source": [
    "\n",
    "from psycopg2 import connect\n",
    "\n",
    "from pydantic_settings import BaseSettings\n",
    "\n",
    "\n",
    "class Settings(BaseSettings):\n",
    "    # Define your settings here\n",
    "    app_name: str = \"MLOps Community Platform Score\"\n",
    "    version: str = \"1.0.0\"\n",
    "\n",
    "    # NEON database settings\n",
    "    pg_connection_string: str | None = None\n",
    "\n",
    "\n",
    "SETTINGS = Settings()"
   ]
  },
  {
   "cell_type": "code",
   "execution_count": 2,
   "id": "124206b6",
   "metadata": {},
   "outputs": [],
   "source": [
    "connection = connect(SETTINGS.pg_connection_string)\n",
    "cursor = connection.cursor()"
   ]
  },
  {
   "cell_type": "code",
   "execution_count": 3,
   "id": "53a33ead",
   "metadata": {},
   "outputs": [
    {
     "data": {
      "text/plain": [
       "('PostgreSQL 17.5 on x86_64-pc-linux-gnu, compiled by gcc (Debian 12.2.0-14+deb12u1) 12.2.0, 64-bit',)"
      ]
     },
     "execution_count": 3,
     "metadata": {},
     "output_type": "execute_result"
    }
   ],
   "source": [
    "cursor.execute(\"SELECT version();\")\n",
    "cursor.fetchone()"
   ]
  },
  {
   "cell_type": "code",
   "execution_count": 12,
   "id": "93c29637",
   "metadata": {},
   "outputs": [],
   "source": [
    "# Rollback the current transaction to clear the error state\n",
    "connection.rollback()\n",
    "\n",
    "cursor.execute(\"SELECT platform_name from platforms.platform_information where platform_name ilike 'aws';\")\n",
    "platforms = cursor.fetchall()"
   ]
  },
  {
   "cell_type": "code",
   "execution_count": 13,
   "id": "b7cd910d",
   "metadata": {},
   "outputs": [
    {
     "data": {
      "text/plain": [
       "[]"
      ]
     },
     "execution_count": 13,
     "metadata": {},
     "output_type": "execute_result"
    }
   ],
   "source": [
    "platforms"
   ]
  },
  {
   "cell_type": "code",
   "execution_count": null,
   "id": "9a4e4cd4",
   "metadata": {},
   "outputs": [],
   "source": []
  },
  {
   "cell_type": "code",
   "execution_count": null,
   "id": "b728205a",
   "metadata": {},
   "outputs": [],
   "source": []
  }
 ],
 "metadata": {
  "kernelspec": {
   "display_name": "mlopsscoreback-Deks3dFt-py3.12",
   "language": "python",
   "name": "python3"
  },
  "language_info": {
   "codemirror_mode": {
    "name": "ipython",
    "version": 3
   },
   "file_extension": ".py",
   "mimetype": "text/x-python",
   "name": "python",
   "nbconvert_exporter": "python",
   "pygments_lexer": "ipython3",
   "version": "3.12.3"
  }
 },
 "nbformat": 4,
 "nbformat_minor": 5
}
