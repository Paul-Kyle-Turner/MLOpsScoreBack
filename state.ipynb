{
 "cells": [
  {
   "cell_type": "code",
   "execution_count": 1,
   "id": "2648d7ae",
   "metadata": {},
   "outputs": [],
   "source": [
    "from settings import SETTINGS\n",
    "from controller.state import StateController"
   ]
  },
  {
   "cell_type": "code",
   "execution_count": 2,
   "id": "27eb6c87",
   "metadata": {},
   "outputs": [],
   "source": [
    "controller = StateController(SETTINGS.pg_connection_string)"
   ]
  },
  {
   "cell_type": "code",
   "execution_count": 3,
   "id": "aca869c6",
   "metadata": {},
   "outputs": [],
   "source": [
    "state = controller.issue()"
   ]
  },
  {
   "cell_type": "code",
   "execution_count": 4,
   "id": "945c5603",
   "metadata": {},
   "outputs": [
    {
     "name": "stdout",
     "output_type": "stream",
     "text": [
      "Generated state: aa23d927-dd70-4d42-9d47-b363f963e228\n"
     ]
    }
   ],
   "source": [
    "print(f\"Generated state: {state.state}\")"
   ]
  },
  {
   "cell_type": "code",
   "execution_count": 5,
   "id": "3b1c18ab",
   "metadata": {},
   "outputs": [
    {
     "name": "stderr",
     "output_type": "stream",
     "text": [
      "INFO:controller.state:Successfully consumed (retrieved and deleted) state \n"
     ]
    },
    {
     "name": "stdout",
     "output_type": "stream",
     "text": [
      "Time elapsed since state creation: 0.2s\n",
      "Current time: 2025-07-21 19:51:52.165294\n",
      "State created at: 2025-07-21T19:51:51.997923\n"
     ]
    },
    {
     "data": {
      "text/plain": [
       "State(state='aa23d927-dd70-4d42-9d47-b363f963e228', id=1, created_at=datetime.datetime(2025, 7, 21, 19, 51, 51, 997923))"
      ]
     },
     "execution_count": 5,
     "metadata": {},
     "output_type": "execute_result"
    }
   ],
   "source": [
    "controller.consume(state.state)"
   ]
  },
  {
   "cell_type": "code",
   "execution_count": null,
   "id": "d03cd681",
   "metadata": {},
   "outputs": [],
   "source": []
  },
  {
   "cell_type": "code",
   "execution_count": null,
   "id": "430f75f4",
   "metadata": {},
   "outputs": [],
   "source": []
  },
  {
   "cell_type": "code",
   "execution_count": null,
   "id": "bce40958",
   "metadata": {},
   "outputs": [],
   "source": []
  },
  {
   "cell_type": "code",
   "execution_count": null,
   "id": "4f70240b",
   "metadata": {},
   "outputs": [],
   "source": []
  },
  {
   "cell_type": "code",
   "execution_count": null,
   "id": "df51f7e3",
   "metadata": {},
   "outputs": [],
   "source": []
  }
 ],
 "metadata": {
  "kernelspec": {
   "display_name": "mlopsscoreback-Deks3dFt-py3.12",
   "language": "python",
   "name": "python3"
  },
  "language_info": {
   "codemirror_mode": {
    "name": "ipython",
    "version": 3
   },
   "file_extension": ".py",
   "mimetype": "text/x-python",
   "name": "python",
   "nbconvert_exporter": "python",
   "pygments_lexer": "ipython3",
   "version": "3.12.3"
  }
 },
 "nbformat": 4,
 "nbformat_minor": 5
}
