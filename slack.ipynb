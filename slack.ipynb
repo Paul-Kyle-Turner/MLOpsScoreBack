{
 "cells": [
  {
   "cell_type": "code",
   "execution_count": null,
   "id": "ceb8733f",
   "metadata": {},
   "outputs": [],
   "source": [
    "from slack_sdk import WebClient\n",
    "from settings import SETTINGS"
   ]
  },
  {
   "cell_type": "code",
   "execution_count": 3,
   "id": "af5e6944",
   "metadata": {},
   "outputs": [],
   "source": [
    "client = WebClient(\n",
    "    token=SETTINGS.slack_oauth_bot_token\n",
    ")"
   ]
  },
  {
   "cell_type": "code",
   "execution_count": 12,
   "id": "cb494122",
   "metadata": {},
   "outputs": [
    {
     "ename": "SlackApiError",
     "evalue": "The request to the Slack API failed. (url: https://slack.com/api/openid.connect.token)\nThe server responded with: {'ok': False, 'error': 'invalid_code'}",
     "output_type": "error",
     "traceback": [
      "\u001b[31m---------------------------------------------------------------------------\u001b[39m",
      "\u001b[31mSlackApiError\u001b[39m                             Traceback (most recent call last)",
      "\u001b[36mCell\u001b[39m\u001b[36m \u001b[39m\u001b[32mIn[12]\u001b[39m\u001b[32m, line 1\u001b[39m\n\u001b[32m----> \u001b[39m\u001b[32m1\u001b[39m \u001b[43mclient\u001b[49m\u001b[43m.\u001b[49m\u001b[43mopenid_connect_token\u001b[49m\u001b[43m(\u001b[49m\n\u001b[32m      2\u001b[39m \u001b[43m    \u001b[49m\u001b[43mclient_id\u001b[49m\u001b[43m=\u001b[49m\u001b[43mSETTINGS\u001b[49m\u001b[43m.\u001b[49m\u001b[43mslack_client_id\u001b[49m\u001b[43m,\u001b[49m\n\u001b[32m      3\u001b[39m \u001b[43m    \u001b[49m\u001b[43mclient_secret\u001b[49m\u001b[43m=\u001b[49m\u001b[43mSETTINGS\u001b[49m\u001b[43m.\u001b[49m\u001b[43mslack_client_secret\u001b[49m\u001b[43m,\u001b[49m\n\u001b[32m      4\u001b[39m \u001b[43m    \u001b[49m\u001b[43mcode\u001b[49m\u001b[43m=\u001b[49m\u001b[33;43m\"\u001b[39;49m\u001b[33;43m982172669153.9219875579539.a2080aa7c7fc5aafeda9b14faec8b354cf62305ed5d01c8124e5ece95e8338fb\u001b[39;49m\u001b[33;43m\"\u001b[39;49m\n\u001b[32m      5\u001b[39m \u001b[43m)\u001b[49m\n",
      "\u001b[36mFile \u001b[39m\u001b[32mc:\\Users\\turne\\AppData\\Local\\pypoetry\\Cache\\virtualenvs\\mlopsscoreback-Deks3dFt-py3.12\\Lib\\site-packages\\slack_sdk\\web\\client.py:4398\u001b[39m, in \u001b[36mWebClient.openid_connect_token\u001b[39m\u001b[34m(self, client_id, client_secret, code, redirect_uri, grant_type, refresh_token, **kwargs)\u001b[39m\n\u001b[32m   4396\u001b[39m \u001b[38;5;28;01mif\u001b[39;00m refresh_token \u001b[38;5;129;01mis\u001b[39;00m \u001b[38;5;129;01mnot\u001b[39;00m \u001b[38;5;28;01mNone\u001b[39;00m:\n\u001b[32m   4397\u001b[39m     kwargs.update({\u001b[33m\"\u001b[39m\u001b[33mrefresh_token\u001b[39m\u001b[33m\"\u001b[39m: refresh_token})\n\u001b[32m-> \u001b[39m\u001b[32m4398\u001b[39m \u001b[38;5;28;01mreturn\u001b[39;00m \u001b[38;5;28;43mself\u001b[39;49m\u001b[43m.\u001b[49m\u001b[43mapi_call\u001b[49m\u001b[43m(\u001b[49m\n\u001b[32m   4399\u001b[39m \u001b[43m    \u001b[49m\u001b[33;43m\"\u001b[39;49m\u001b[33;43mopenid.connect.token\u001b[39;49m\u001b[33;43m\"\u001b[39;49m\u001b[43m,\u001b[49m\n\u001b[32m   4400\u001b[39m \u001b[43m    \u001b[49m\u001b[43mdata\u001b[49m\u001b[43m=\u001b[49m\u001b[43mkwargs\u001b[49m\u001b[43m,\u001b[49m\n\u001b[32m   4401\u001b[39m \u001b[43m    \u001b[49m\u001b[43mauth\u001b[49m\u001b[43m=\u001b[49m\u001b[43m{\u001b[49m\u001b[33;43m\"\u001b[39;49m\u001b[33;43mclient_id\u001b[39;49m\u001b[33;43m\"\u001b[39;49m\u001b[43m:\u001b[49m\u001b[43m \u001b[49m\u001b[43mclient_id\u001b[49m\u001b[43m,\u001b[49m\u001b[43m \u001b[49m\u001b[33;43m\"\u001b[39;49m\u001b[33;43mclient_secret\u001b[39;49m\u001b[33;43m\"\u001b[39;49m\u001b[43m:\u001b[49m\u001b[43m \u001b[49m\u001b[43mclient_secret\u001b[49m\u001b[43m}\u001b[49m\u001b[43m,\u001b[49m\n\u001b[32m   4402\u001b[39m \u001b[43m\u001b[49m\u001b[43m)\u001b[49m\n",
      "\u001b[36mFile \u001b[39m\u001b[32mc:\\Users\\turne\\AppData\\Local\\pypoetry\\Cache\\virtualenvs\\mlopsscoreback-Deks3dFt-py3.12\\Lib\\site-packages\\slack_sdk\\web\\base_client.py:169\u001b[39m, in \u001b[36mBaseClient.api_call\u001b[39m\u001b[34m(self, api_method, http_verb, files, data, params, json, headers, auth)\u001b[39m\n\u001b[32m    154\u001b[39m req_args = _build_req_args(\n\u001b[32m    155\u001b[39m     token=\u001b[38;5;28mself\u001b[39m.token,\n\u001b[32m    156\u001b[39m     http_verb=http_verb,\n\u001b[32m   (...)\u001b[39m\u001b[32m    165\u001b[39m     proxy=\u001b[38;5;28mself\u001b[39m.proxy,\n\u001b[32m    166\u001b[39m )\n\u001b[32m    168\u001b[39m show_deprecation_warning_if_any(api_method)\n\u001b[32m--> \u001b[39m\u001b[32m169\u001b[39m \u001b[38;5;28;01mreturn\u001b[39;00m \u001b[38;5;28;43mself\u001b[39;49m\u001b[43m.\u001b[49m\u001b[43m_sync_send\u001b[49m\u001b[43m(\u001b[49m\u001b[43mapi_url\u001b[49m\u001b[43m=\u001b[49m\u001b[43mapi_url\u001b[49m\u001b[43m,\u001b[49m\u001b[43m \u001b[49m\u001b[43mreq_args\u001b[49m\u001b[43m=\u001b[49m\u001b[43mreq_args\u001b[49m\u001b[43m)\u001b[49m\n",
      "\u001b[36mFile \u001b[39m\u001b[32mc:\\Users\\turne\\AppData\\Local\\pypoetry\\Cache\\virtualenvs\\mlopsscoreback-Deks3dFt-py3.12\\Lib\\site-packages\\slack_sdk\\web\\base_client.py:200\u001b[39m, in \u001b[36mBaseClient._sync_send\u001b[39m\u001b[34m(self, api_url, req_args)\u001b[39m\n\u001b[32m    197\u001b[39m \u001b[38;5;28;01mif\u001b[39;00m data:\n\u001b[32m    198\u001b[39m     body_params.update(data)\n\u001b[32m--> \u001b[39m\u001b[32m200\u001b[39m \u001b[38;5;28;01mreturn\u001b[39;00m \u001b[38;5;28;43mself\u001b[39;49m\u001b[43m.\u001b[49m\u001b[43m_urllib_api_call\u001b[49m\u001b[43m(\u001b[49m\n\u001b[32m    201\u001b[39m \u001b[43m    \u001b[49m\u001b[43mtoken\u001b[49m\u001b[43m=\u001b[49m\u001b[43mtoken\u001b[49m\u001b[43m,\u001b[49m\n\u001b[32m    202\u001b[39m \u001b[43m    \u001b[49m\u001b[43murl\u001b[49m\u001b[43m=\u001b[49m\u001b[43mapi_url\u001b[49m\u001b[43m,\u001b[49m\n\u001b[32m    203\u001b[39m \u001b[43m    \u001b[49m\u001b[43mquery_params\u001b[49m\u001b[43m=\u001b[49m\u001b[43m{\u001b[49m\u001b[43m}\u001b[49m\u001b[43m,\u001b[49m\n\u001b[32m    204\u001b[39m \u001b[43m    \u001b[49m\u001b[43mbody_params\u001b[49m\u001b[43m=\u001b[49m\u001b[43mbody_params\u001b[49m\u001b[43m,\u001b[49m\n\u001b[32m    205\u001b[39m \u001b[43m    \u001b[49m\u001b[43mfiles\u001b[49m\u001b[43m=\u001b[49m\u001b[43mfiles\u001b[49m\u001b[43m,\u001b[49m\u001b[43m  \u001b[49m\u001b[38;5;66;43;03m# type: ignore[arg-type]\u001b[39;49;00m\n\u001b[32m    206\u001b[39m \u001b[43m    \u001b[49m\u001b[43mjson_body\u001b[49m\u001b[43m=\u001b[49m\u001b[43m_json\u001b[49m\u001b[43m,\u001b[49m\u001b[43m  \u001b[49m\u001b[38;5;66;43;03m# type: ignore[arg-type]\u001b[39;49;00m\n\u001b[32m    207\u001b[39m \u001b[43m    \u001b[49m\u001b[43madditional_headers\u001b[49m\u001b[43m=\u001b[49m\u001b[43mheaders\u001b[49m\u001b[43m,\u001b[49m\u001b[43m  \u001b[49m\u001b[38;5;66;43;03m# type: ignore[arg-type]\u001b[39;49;00m\n\u001b[32m    208\u001b[39m \u001b[43m\u001b[49m\u001b[43m)\u001b[49m\n",
      "\u001b[36mFile \u001b[39m\u001b[32mc:\\Users\\turne\\AppData\\Local\\pypoetry\\Cache\\virtualenvs\\mlopsscoreback-Deks3dFt-py3.12\\Lib\\site-packages\\slack_sdk\\web\\base_client.py:331\u001b[39m, in \u001b[36mBaseClient._urllib_api_call\u001b[39m\u001b[34m(self, token, url, query_params, json_body, body_params, files, additional_headers)\u001b[39m\n\u001b[32m    320\u001b[39m         all_params.update(query_params)\n\u001b[32m    321\u001b[39m     request_args[\u001b[33m\"\u001b[39m\u001b[33mparams\u001b[39m\u001b[33m\"\u001b[39m] = all_params  \u001b[38;5;66;03m# for backward-compatibility\u001b[39;00m\n\u001b[32m    323\u001b[39m     \u001b[38;5;28;01mreturn\u001b[39;00m \u001b[43mSlackResponse\u001b[49m\u001b[43m(\u001b[49m\n\u001b[32m    324\u001b[39m \u001b[43m        \u001b[49m\u001b[43mclient\u001b[49m\u001b[43m=\u001b[49m\u001b[38;5;28;43mself\u001b[39;49m\u001b[43m,\u001b[49m\n\u001b[32m    325\u001b[39m \u001b[43m        \u001b[49m\u001b[43mhttp_verb\u001b[49m\u001b[43m=\u001b[49m\u001b[33;43m\"\u001b[39;49m\u001b[33;43mPOST\u001b[39;49m\u001b[33;43m\"\u001b[39;49m\u001b[43m,\u001b[49m\u001b[43m  \u001b[49m\u001b[38;5;66;43;03m# you can use POST method for all the Web APIs\u001b[39;49;00m\n\u001b[32m    326\u001b[39m \u001b[43m        \u001b[49m\u001b[43mapi_url\u001b[49m\u001b[43m=\u001b[49m\u001b[43murl\u001b[49m\u001b[43m,\u001b[49m\n\u001b[32m    327\u001b[39m \u001b[43m        \u001b[49m\u001b[43mreq_args\u001b[49m\u001b[43m=\u001b[49m\u001b[43mrequest_args\u001b[49m\u001b[43m,\u001b[49m\n\u001b[32m    328\u001b[39m \u001b[43m        \u001b[49m\u001b[43mdata\u001b[49m\u001b[43m=\u001b[49m\u001b[43mresponse_body_data\u001b[49m\u001b[43m,\u001b[49m\u001b[43m  \u001b[49m\u001b[38;5;66;43;03m# type: ignore[arg-type]\u001b[39;49;00m\n\u001b[32m    329\u001b[39m \u001b[43m        \u001b[49m\u001b[43mheaders\u001b[49m\u001b[43m=\u001b[49m\u001b[38;5;28;43mdict\u001b[39;49m\u001b[43m(\u001b[49m\u001b[43mresponse\u001b[49m\u001b[43m[\u001b[49m\u001b[33;43m\"\u001b[39;49m\u001b[33;43mheaders\u001b[39;49m\u001b[33;43m\"\u001b[39;49m\u001b[43m]\u001b[49m\u001b[43m)\u001b[49m\u001b[43m,\u001b[49m\n\u001b[32m    330\u001b[39m \u001b[43m        \u001b[49m\u001b[43mstatus_code\u001b[49m\u001b[43m=\u001b[49m\u001b[43mresponse\u001b[49m\u001b[43m[\u001b[49m\u001b[33;43m\"\u001b[39;49m\u001b[33;43mstatus\u001b[39;49m\u001b[33;43m\"\u001b[39;49m\u001b[43m]\u001b[49m\u001b[43m,\u001b[49m\n\u001b[32m--> \u001b[39m\u001b[32m331\u001b[39m \u001b[43m    \u001b[49m\u001b[43m)\u001b[49m\u001b[43m.\u001b[49m\u001b[43mvalidate\u001b[49m\u001b[43m(\u001b[49m\u001b[43m)\u001b[49m\n\u001b[32m    332\u001b[39m \u001b[38;5;28;01mfinally\u001b[39;00m:\n\u001b[32m    333\u001b[39m     \u001b[38;5;28;01mfor\u001b[39;00m f \u001b[38;5;129;01min\u001b[39;00m files_to_close:\n",
      "\u001b[36mFile \u001b[39m\u001b[32mc:\\Users\\turne\\AppData\\Local\\pypoetry\\Cache\\virtualenvs\\mlopsscoreback-Deks3dFt-py3.12\\Lib\\site-packages\\slack_sdk\\web\\slack_response.py:197\u001b[39m, in \u001b[36mSlackResponse.validate\u001b[39m\u001b[34m(self)\u001b[39m\n\u001b[32m    195\u001b[39m     \u001b[38;5;28;01mreturn\u001b[39;00m \u001b[38;5;28mself\u001b[39m\n\u001b[32m    196\u001b[39m msg = \u001b[33mf\u001b[39m\u001b[33m\"\u001b[39m\u001b[33mThe request to the Slack API failed. (url: \u001b[39m\u001b[38;5;132;01m{\u001b[39;00m\u001b[38;5;28mself\u001b[39m.api_url\u001b[38;5;132;01m}\u001b[39;00m\u001b[33m)\u001b[39m\u001b[33m\"\u001b[39m\n\u001b[32m--> \u001b[39m\u001b[32m197\u001b[39m \u001b[38;5;28;01mraise\u001b[39;00m e.SlackApiError(message=msg, response=\u001b[38;5;28mself\u001b[39m)\n",
      "\u001b[31mSlackApiError\u001b[39m: The request to the Slack API failed. (url: https://slack.com/api/openid.connect.token)\nThe server responded with: {'ok': False, 'error': 'invalid_code'}"
     ]
    }
   ],
   "source": [
    "client.openid_connect_token(\n",
    "    client_id=SETTINGS.slack_client_id,\n",
    "    client_secret=SETTINGS.slack_client_secret,\n",
    "    code=\"982172669153.9219875579539.a2080aa7c7fc5aafeda9b14faec8b354cf62305ed5d01c8124e5ece95e8338fb\"\n",
    ")"
   ]
  },
  {
   "cell_type": "code",
   "execution_count": null,
   "id": "f330f289",
   "metadata": {},
   "outputs": [],
   "source": [
    "client.authoriz"
   ]
  },
  {
   "cell_type": "code",
   "execution_count": null,
   "id": "d62e5c1d",
   "metadata": {},
   "outputs": [],
   "source": []
  },
  {
   "cell_type": "code",
   "execution_count": null,
   "id": "f197d11b",
   "metadata": {},
   "outputs": [],
   "source": []
  }
 ],
 "metadata": {
  "kernelspec": {
   "display_name": "mlopsscoreback-Deks3dFt-py3.12",
   "language": "python",
   "name": "python3"
  },
  "language_info": {
   "codemirror_mode": {
    "name": "ipython",
    "version": 3
   },
   "file_extension": ".py",
   "mimetype": "text/x-python",
   "name": "python",
   "nbconvert_exporter": "python",
   "pygments_lexer": "ipython3",
   "version": "3.12.3"
  }
 },
 "nbformat": 4,
 "nbformat_minor": 5
}
